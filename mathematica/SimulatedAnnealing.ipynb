{
 "cells": [
  {
   "cell_type": "code",
   "execution_count": 8,
   "metadata": {
    "collapsed": false
   },
   "outputs": [
    {
     "data": {
      "text/plain": [
       "RandomLocalFields (generic function with 1 method)"
      ]
     },
     "execution_count": 8,
     "metadata": {},
     "output_type": "execute_result"
    }
   ],
   "source": [
    "function RandomLocalFields(spins, sparseness)\n",
    "    localFields = zeros(spins)\n",
    "    for i=1:spins\n",
    "        if rand() > sparseness\n",
    "            localFields[i] = rand()*2-1\n",
    "        end\n",
    "    end\n",
    "    return localFields\n",
    "end"
   ]
  },
  {
   "cell_type": "code",
   "execution_count": 9,
   "metadata": {
    "collapsed": false
   },
   "outputs": [
    {
     "name": "stdout",
     "output_type": "stream",
     "text": [
      "[0.08668445750685061,0.12568609625859217,-0.8028816173940014,-0.032412891694860946,0.3934353152015113,0.42648876318988727,-0.9607967494699037,0.29458288686056777,0.4921554571406963,-0.3476310695589415]\n"
     ]
    }
   ],
   "source": [
    "testFields = RandomLocalFields(10,0)\n",
    "println(testFields)"
   ]
  },
  {
   "cell_type": "code",
   "execution_count": 10,
   "metadata": {
    "collapsed": false
   },
   "outputs": [
    {
     "data": {
      "text/plain": [
       "RandomCouplings (generic function with 1 method)"
      ]
     },
     "execution_count": 10,
     "metadata": {},
     "output_type": "execute_result"
    }
   ],
   "source": [
    "function RandomCouplings(spins, sparseness)\n",
    "    numberOfCouplings = binomial(spins,3)\n",
    "    couplings = zeros(numberOfCouplings)\n",
    "    for i=1:numberOfCouplings\n",
    "        if rand() > sparseness\n",
    "            couplings[i] = rand()*2-1\n",
    "        end\n",
    "    end\n",
    "    return couplings\n",
    "end"
   ]
  },
  {
   "cell_type": "code",
   "execution_count": 11,
   "metadata": {
    "collapsed": false
   },
   "outputs": [
    {
     "data": {
      "text/plain": [
       "4-element Array{Float64,1}:\n",
       " -0.299411\n",
       "  0.983406\n",
       "  0.341844\n",
       " -0.814014"
      ]
     },
     "execution_count": 11,
     "metadata": {},
     "output_type": "execute_result"
    }
   ],
   "source": [
    "RandomCouplings(4,0)"
   ]
  },
  {
   "cell_type": "code",
   "execution_count": null,
   "metadata": {
    "collapsed": true
   },
   "outputs": [],
   "source": [
    "function RandomHamiltonian(localFields,couplings,spins)\n",
    "      \n",
    "end"
   ]
  }
 ],
 "metadata": {
  "kernelspec": {
   "display_name": "Julia 0.4.0",
   "language": "julia",
   "name": "julia-0.4"
  },
  "language_info": {
   "file_extension": ".jl",
   "mimetype": "application/julia",
   "name": "julia",
   "version": "0.4.5"
  }
 },
 "nbformat": 4,
 "nbformat_minor": 0
}
